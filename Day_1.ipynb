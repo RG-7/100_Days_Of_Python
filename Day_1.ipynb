{
  "nbformat": 4,
  "nbformat_minor": 0,
  "metadata": {
    "colab": {
      "provenance": [],
      "authorship_tag": "ABX9TyOwUTRMKrrQbTawdfjiByh8"
    },
    "kernelspec": {
      "name": "python3",
      "display_name": "Python 3"
    },
    "language_info": {
      "name": "python"
    }
  },
  "cells": [
    {
      "cell_type": "code",
      "execution_count": 1,
      "metadata": {
        "colab": {
          "base_uri": "https://localhost:8080/"
        },
        "id": "jDtvh9kVnUyK",
        "outputId": "20ca0524-35f7-49af-907c-6a0de7772dae"
      },
      "outputs": [
        {
          "output_type": "stream",
          "name": "stdout",
          "text": [
            "Day 1 - Python Print Function\n",
            "The function is declared like this:\n",
            "print('what to print')\n",
            "\n",
            "\n",
            "Day 1 - String Manipulation\n",
            "String Concatenation is done with the \"+\" sign.\n",
            "e.g. print(\"Hello \" + \"world\")\n",
            "New lines can be created with a backslash and n.\n",
            "\n",
            "\n",
            "3\n",
            "4\n",
            "12\n",
            "helloworld\n",
            "10\n",
            "45\n",
            "89\n",
            "a: 89\n",
            "b: 45\n"
          ]
        }
      ],
      "source": [
        "# Day 1\n",
        "# January 17, 2024\n",
        "# Author: Ratn Govindam\n",
        "# #100DaysofCoding\n",
        "\n",
        "# Lesson 1 Day 1 -  Printing\n",
        "print('Day 1 - Python Print Function')\n",
        "print('The function is declared like this:')\n",
        "print(\"print('what to print')\")\n",
        "#--------------------------------------\n",
        "\n",
        "print('\\n')\n",
        "\n",
        "# Lesson 2 Day 1 Debugging Practice\n",
        "# Fix the code below 👇\n",
        "print(\"Day 1 - String Manipulation\")\n",
        "print(\"String Concatenation is done with the \\\"+\\\" sign.\")\n",
        "print('e.g. print(\"Hello \" + \"world\")')\n",
        "print(\"New lines can be created with a backslash and n.\")\n",
        "#--------------------------------------\n",
        "\n",
        "print('\\n')\n",
        "\n",
        "# Lesson 3 Day 1 Input Function\n",
        "num1 = int(input())\n",
        "num2 = int(input())\n",
        "mul = num1 * num2\n",
        "print(mul)\n",
        "# Provide any name in the input pane below.\n",
        "# That value can be accessed using the input() function.\n",
        "# Don't put anything inside the input() function!\n",
        "name = input()\n",
        "print(len(name))\n",
        "#--------------------------------------\n",
        "\n",
        "# Lesson 4 Day 1 Variables\n",
        "# There are two variables, a and b from input\n",
        "a = input()\n",
        "b = input()\n",
        "# 🚨 Don't change the code above ☝️\n",
        "####################################\n",
        "# Write your code below this line 👇\n",
        "temp = a\n",
        "a = b\n",
        "b= temp\n",
        "# 🚨 Don't change the code below 👇\n",
        "print(\"a: \" + a)\n",
        "print(\"b: \" + b)\n",
        "#--------------------------------------\n",
        "\n",
        "# Day 1 Completed!\n",
        "# Happy Coding🧡🤍💚"
      ]
    }
  ]
}